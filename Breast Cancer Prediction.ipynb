{
 "cells": [
  {
   "cell_type": "code",
   "execution_count": 38,
   "id": "acc37c77",
   "metadata": {},
   "outputs": [],
   "source": [
    "#importing Libraries"
   ]
  },
  {
   "cell_type": "code",
   "execution_count": 2,
   "id": "6277c2ce",
   "metadata": {},
   "outputs": [],
   "source": [
    "import tensorflow as tf\n",
    "from tensorflow.keras.models import Sequential\n",
    "from tensorflow.keras.layers import Dense,Activation,Dropout\n",
    "from tensorflow.keras.callbacks import EarlyStopping\n",
    "from sklearn.preprocessing import MinMaxScaler\n",
    "from sklearn.model_selection import train_test_split\n",
    "from sklearn import metrics\n",
    "from sklearn.metrics import classification_report,confusion_matrix\n",
    "import pandas as pd\n",
    "import numpy as np\n",
    "import matplotlib.pyplot as plt\n",
    "import seaborn as sns\n",
    "import cufflinks as cf\n",
    "from plotly.offline import download_plotlyjs,init_notebook_mode,iplot,plot"
   ]
  },
  {
   "cell_type": "code",
   "execution_count": 3,
   "id": "aa6c5752",
   "metadata": {},
   "outputs": [
    {
     "data": {
      "text/html": [
       "        <script type=\"text/javascript\">\n",
       "        window.PlotlyConfig = {MathJaxConfig: 'local'};\n",
       "        if (window.MathJax) {MathJax.Hub.Config({SVG: {font: \"STIX-Web\"}});}\n",
       "        if (typeof require !== 'undefined') {\n",
       "        require.undef(\"plotly\");\n",
       "        requirejs.config({\n",
       "            paths: {\n",
       "                'plotly': ['https://cdn.plot.ly/plotly-2.9.0.min']\n",
       "            }\n",
       "        });\n",
       "        require(['plotly'], function(Plotly) {\n",
       "            window._Plotly = Plotly;\n",
       "        });\n",
       "        }\n",
       "        </script>\n",
       "        "
      ]
     },
     "metadata": {},
     "output_type": "display_data"
    },
    {
     "data": {
      "text/html": [
       "        <script type=\"text/javascript\">\n",
       "        window.PlotlyConfig = {MathJaxConfig: 'local'};\n",
       "        if (window.MathJax) {MathJax.Hub.Config({SVG: {font: \"STIX-Web\"}});}\n",
       "        if (typeof require !== 'undefined') {\n",
       "        require.undef(\"plotly\");\n",
       "        requirejs.config({\n",
       "            paths: {\n",
       "                'plotly': ['https://cdn.plot.ly/plotly-2.9.0.min']\n",
       "            }\n",
       "        });\n",
       "        require(['plotly'], function(Plotly) {\n",
       "            window._Plotly = Plotly;\n",
       "        });\n",
       "        }\n",
       "        </script>\n",
       "        "
      ]
     },
     "metadata": {},
     "output_type": "display_data"
    }
   ],
   "source": [
    "%matplotlib inline\n",
    "init_notebook_mode(connected=True)\n",
    "cf.go_offline()"
   ]
  },
  {
   "cell_type": "code",
   "execution_count": 39,
   "id": "f6c7b2b4",
   "metadata": {},
   "outputs": [],
   "source": [
    "#Extracting Data"
   ]
  },
  {
   "cell_type": "code",
   "execution_count": 4,
   "id": "6c4f163e",
   "metadata": {},
   "outputs": [],
   "source": [
    "d = pd.read_csv('cancer_classification.csv')"
   ]
  },
  {
   "cell_type": "code",
   "execution_count": 40,
   "id": "7f2cfb6e",
   "metadata": {},
   "outputs": [],
   "source": [
    "#Exploring Data"
   ]
  },
  {
   "cell_type": "code",
   "execution_count": 5,
   "id": "7f3166ae",
   "metadata": {},
   "outputs": [
    {
     "data": {
      "text/html": [
       "<div>\n",
       "<style scoped>\n",
       "    .dataframe tbody tr th:only-of-type {\n",
       "        vertical-align: middle;\n",
       "    }\n",
       "\n",
       "    .dataframe tbody tr th {\n",
       "        vertical-align: top;\n",
       "    }\n",
       "\n",
       "    .dataframe thead th {\n",
       "        text-align: right;\n",
       "    }\n",
       "</style>\n",
       "<table border=\"1\" class=\"dataframe\">\n",
       "  <thead>\n",
       "    <tr style=\"text-align: right;\">\n",
       "      <th></th>\n",
       "      <th>mean radius</th>\n",
       "      <th>mean texture</th>\n",
       "      <th>mean perimeter</th>\n",
       "      <th>mean area</th>\n",
       "      <th>mean smoothness</th>\n",
       "      <th>mean compactness</th>\n",
       "      <th>mean concavity</th>\n",
       "      <th>mean concave points</th>\n",
       "      <th>mean symmetry</th>\n",
       "      <th>mean fractal dimension</th>\n",
       "      <th>...</th>\n",
       "      <th>worst texture</th>\n",
       "      <th>worst perimeter</th>\n",
       "      <th>worst area</th>\n",
       "      <th>worst smoothness</th>\n",
       "      <th>worst compactness</th>\n",
       "      <th>worst concavity</th>\n",
       "      <th>worst concave points</th>\n",
       "      <th>worst symmetry</th>\n",
       "      <th>worst fractal dimension</th>\n",
       "      <th>benign_0__mal_1</th>\n",
       "    </tr>\n",
       "  </thead>\n",
       "  <tbody>\n",
       "    <tr>\n",
       "      <th>0</th>\n",
       "      <td>17.99</td>\n",
       "      <td>10.38</td>\n",
       "      <td>122.80</td>\n",
       "      <td>1001.0</td>\n",
       "      <td>0.11840</td>\n",
       "      <td>0.27760</td>\n",
       "      <td>0.3001</td>\n",
       "      <td>0.14710</td>\n",
       "      <td>0.2419</td>\n",
       "      <td>0.07871</td>\n",
       "      <td>...</td>\n",
       "      <td>17.33</td>\n",
       "      <td>184.60</td>\n",
       "      <td>2019.0</td>\n",
       "      <td>0.1622</td>\n",
       "      <td>0.6656</td>\n",
       "      <td>0.7119</td>\n",
       "      <td>0.2654</td>\n",
       "      <td>0.4601</td>\n",
       "      <td>0.11890</td>\n",
       "      <td>0</td>\n",
       "    </tr>\n",
       "    <tr>\n",
       "      <th>1</th>\n",
       "      <td>20.57</td>\n",
       "      <td>17.77</td>\n",
       "      <td>132.90</td>\n",
       "      <td>1326.0</td>\n",
       "      <td>0.08474</td>\n",
       "      <td>0.07864</td>\n",
       "      <td>0.0869</td>\n",
       "      <td>0.07017</td>\n",
       "      <td>0.1812</td>\n",
       "      <td>0.05667</td>\n",
       "      <td>...</td>\n",
       "      <td>23.41</td>\n",
       "      <td>158.80</td>\n",
       "      <td>1956.0</td>\n",
       "      <td>0.1238</td>\n",
       "      <td>0.1866</td>\n",
       "      <td>0.2416</td>\n",
       "      <td>0.1860</td>\n",
       "      <td>0.2750</td>\n",
       "      <td>0.08902</td>\n",
       "      <td>0</td>\n",
       "    </tr>\n",
       "    <tr>\n",
       "      <th>2</th>\n",
       "      <td>19.69</td>\n",
       "      <td>21.25</td>\n",
       "      <td>130.00</td>\n",
       "      <td>1203.0</td>\n",
       "      <td>0.10960</td>\n",
       "      <td>0.15990</td>\n",
       "      <td>0.1974</td>\n",
       "      <td>0.12790</td>\n",
       "      <td>0.2069</td>\n",
       "      <td>0.05999</td>\n",
       "      <td>...</td>\n",
       "      <td>25.53</td>\n",
       "      <td>152.50</td>\n",
       "      <td>1709.0</td>\n",
       "      <td>0.1444</td>\n",
       "      <td>0.4245</td>\n",
       "      <td>0.4504</td>\n",
       "      <td>0.2430</td>\n",
       "      <td>0.3613</td>\n",
       "      <td>0.08758</td>\n",
       "      <td>0</td>\n",
       "    </tr>\n",
       "    <tr>\n",
       "      <th>3</th>\n",
       "      <td>11.42</td>\n",
       "      <td>20.38</td>\n",
       "      <td>77.58</td>\n",
       "      <td>386.1</td>\n",
       "      <td>0.14250</td>\n",
       "      <td>0.28390</td>\n",
       "      <td>0.2414</td>\n",
       "      <td>0.10520</td>\n",
       "      <td>0.2597</td>\n",
       "      <td>0.09744</td>\n",
       "      <td>...</td>\n",
       "      <td>26.50</td>\n",
       "      <td>98.87</td>\n",
       "      <td>567.7</td>\n",
       "      <td>0.2098</td>\n",
       "      <td>0.8663</td>\n",
       "      <td>0.6869</td>\n",
       "      <td>0.2575</td>\n",
       "      <td>0.6638</td>\n",
       "      <td>0.17300</td>\n",
       "      <td>0</td>\n",
       "    </tr>\n",
       "    <tr>\n",
       "      <th>4</th>\n",
       "      <td>20.29</td>\n",
       "      <td>14.34</td>\n",
       "      <td>135.10</td>\n",
       "      <td>1297.0</td>\n",
       "      <td>0.10030</td>\n",
       "      <td>0.13280</td>\n",
       "      <td>0.1980</td>\n",
       "      <td>0.10430</td>\n",
       "      <td>0.1809</td>\n",
       "      <td>0.05883</td>\n",
       "      <td>...</td>\n",
       "      <td>16.67</td>\n",
       "      <td>152.20</td>\n",
       "      <td>1575.0</td>\n",
       "      <td>0.1374</td>\n",
       "      <td>0.2050</td>\n",
       "      <td>0.4000</td>\n",
       "      <td>0.1625</td>\n",
       "      <td>0.2364</td>\n",
       "      <td>0.07678</td>\n",
       "      <td>0</td>\n",
       "    </tr>\n",
       "  </tbody>\n",
       "</table>\n",
       "<p>5 rows × 31 columns</p>\n",
       "</div>"
      ],
      "text/plain": [
       "   mean radius  mean texture  mean perimeter  mean area  mean smoothness  \\\n",
       "0        17.99         10.38          122.80     1001.0          0.11840   \n",
       "1        20.57         17.77          132.90     1326.0          0.08474   \n",
       "2        19.69         21.25          130.00     1203.0          0.10960   \n",
       "3        11.42         20.38           77.58      386.1          0.14250   \n",
       "4        20.29         14.34          135.10     1297.0          0.10030   \n",
       "\n",
       "   mean compactness  mean concavity  mean concave points  mean symmetry  \\\n",
       "0           0.27760          0.3001              0.14710         0.2419   \n",
       "1           0.07864          0.0869              0.07017         0.1812   \n",
       "2           0.15990          0.1974              0.12790         0.2069   \n",
       "3           0.28390          0.2414              0.10520         0.2597   \n",
       "4           0.13280          0.1980              0.10430         0.1809   \n",
       "\n",
       "   mean fractal dimension  ...  worst texture  worst perimeter  worst area  \\\n",
       "0                 0.07871  ...          17.33           184.60      2019.0   \n",
       "1                 0.05667  ...          23.41           158.80      1956.0   \n",
       "2                 0.05999  ...          25.53           152.50      1709.0   \n",
       "3                 0.09744  ...          26.50            98.87       567.7   \n",
       "4                 0.05883  ...          16.67           152.20      1575.0   \n",
       "\n",
       "   worst smoothness  worst compactness  worst concavity  worst concave points  \\\n",
       "0            0.1622             0.6656           0.7119                0.2654   \n",
       "1            0.1238             0.1866           0.2416                0.1860   \n",
       "2            0.1444             0.4245           0.4504                0.2430   \n",
       "3            0.2098             0.8663           0.6869                0.2575   \n",
       "4            0.1374             0.2050           0.4000                0.1625   \n",
       "\n",
       "   worst symmetry  worst fractal dimension  benign_0__mal_1  \n",
       "0          0.4601                  0.11890                0  \n",
       "1          0.2750                  0.08902                0  \n",
       "2          0.3613                  0.08758                0  \n",
       "3          0.6638                  0.17300                0  \n",
       "4          0.2364                  0.07678                0  \n",
       "\n",
       "[5 rows x 31 columns]"
      ]
     },
     "execution_count": 5,
     "metadata": {},
     "output_type": "execute_result"
    }
   ],
   "source": [
    "d.head()"
   ]
  },
  {
   "cell_type": "code",
   "execution_count": 6,
   "id": "c27f1782",
   "metadata": {},
   "outputs": [
    {
     "name": "stdout",
     "output_type": "stream",
     "text": [
      "<class 'pandas.core.frame.DataFrame'>\n",
      "RangeIndex: 569 entries, 0 to 568\n",
      "Data columns (total 31 columns):\n",
      " #   Column                   Non-Null Count  Dtype  \n",
      "---  ------                   --------------  -----  \n",
      " 0   mean radius              569 non-null    float64\n",
      " 1   mean texture             569 non-null    float64\n",
      " 2   mean perimeter           569 non-null    float64\n",
      " 3   mean area                569 non-null    float64\n",
      " 4   mean smoothness          569 non-null    float64\n",
      " 5   mean compactness         569 non-null    float64\n",
      " 6   mean concavity           569 non-null    float64\n",
      " 7   mean concave points      569 non-null    float64\n",
      " 8   mean symmetry            569 non-null    float64\n",
      " 9   mean fractal dimension   569 non-null    float64\n",
      " 10  radius error             569 non-null    float64\n",
      " 11  texture error            569 non-null    float64\n",
      " 12  perimeter error          569 non-null    float64\n",
      " 13  area error               569 non-null    float64\n",
      " 14  smoothness error         569 non-null    float64\n",
      " 15  compactness error        569 non-null    float64\n",
      " 16  concavity error          569 non-null    float64\n",
      " 17  concave points error     569 non-null    float64\n",
      " 18  symmetry error           569 non-null    float64\n",
      " 19  fractal dimension error  569 non-null    float64\n",
      " 20  worst radius             569 non-null    float64\n",
      " 21  worst texture            569 non-null    float64\n",
      " 22  worst perimeter          569 non-null    float64\n",
      " 23  worst area               569 non-null    float64\n",
      " 24  worst smoothness         569 non-null    float64\n",
      " 25  worst compactness        569 non-null    float64\n",
      " 26  worst concavity          569 non-null    float64\n",
      " 27  worst concave points     569 non-null    float64\n",
      " 28  worst symmetry           569 non-null    float64\n",
      " 29  worst fractal dimension  569 non-null    float64\n",
      " 30  benign_0__mal_1          569 non-null    int64  \n",
      "dtypes: float64(30), int64(1)\n",
      "memory usage: 137.9 KB\n"
     ]
    }
   ],
   "source": [
    "d.info()"
   ]
  },
  {
   "cell_type": "code",
   "execution_count": 7,
   "id": "9b01071e",
   "metadata": {},
   "outputs": [
    {
     "data": {
      "text/html": [
       "<div>\n",
       "<style scoped>\n",
       "    .dataframe tbody tr th:only-of-type {\n",
       "        vertical-align: middle;\n",
       "    }\n",
       "\n",
       "    .dataframe tbody tr th {\n",
       "        vertical-align: top;\n",
       "    }\n",
       "\n",
       "    .dataframe thead th {\n",
       "        text-align: right;\n",
       "    }\n",
       "</style>\n",
       "<table border=\"1\" class=\"dataframe\">\n",
       "  <thead>\n",
       "    <tr style=\"text-align: right;\">\n",
       "      <th></th>\n",
       "      <th>mean radius</th>\n",
       "      <th>mean texture</th>\n",
       "      <th>mean perimeter</th>\n",
       "      <th>mean area</th>\n",
       "      <th>mean smoothness</th>\n",
       "      <th>mean compactness</th>\n",
       "      <th>mean concavity</th>\n",
       "      <th>mean concave points</th>\n",
       "      <th>mean symmetry</th>\n",
       "      <th>mean fractal dimension</th>\n",
       "      <th>...</th>\n",
       "      <th>worst texture</th>\n",
       "      <th>worst perimeter</th>\n",
       "      <th>worst area</th>\n",
       "      <th>worst smoothness</th>\n",
       "      <th>worst compactness</th>\n",
       "      <th>worst concavity</th>\n",
       "      <th>worst concave points</th>\n",
       "      <th>worst symmetry</th>\n",
       "      <th>worst fractal dimension</th>\n",
       "      <th>benign_0__mal_1</th>\n",
       "    </tr>\n",
       "  </thead>\n",
       "  <tbody>\n",
       "    <tr>\n",
       "      <th>count</th>\n",
       "      <td>569.000000</td>\n",
       "      <td>569.000000</td>\n",
       "      <td>569.000000</td>\n",
       "      <td>569.000000</td>\n",
       "      <td>569.000000</td>\n",
       "      <td>569.000000</td>\n",
       "      <td>569.000000</td>\n",
       "      <td>569.000000</td>\n",
       "      <td>569.000000</td>\n",
       "      <td>569.000000</td>\n",
       "      <td>...</td>\n",
       "      <td>569.000000</td>\n",
       "      <td>569.000000</td>\n",
       "      <td>569.000000</td>\n",
       "      <td>569.000000</td>\n",
       "      <td>569.000000</td>\n",
       "      <td>569.000000</td>\n",
       "      <td>569.000000</td>\n",
       "      <td>569.000000</td>\n",
       "      <td>569.000000</td>\n",
       "      <td>569.000000</td>\n",
       "    </tr>\n",
       "    <tr>\n",
       "      <th>mean</th>\n",
       "      <td>14.127292</td>\n",
       "      <td>19.289649</td>\n",
       "      <td>91.969033</td>\n",
       "      <td>654.889104</td>\n",
       "      <td>0.096360</td>\n",
       "      <td>0.104341</td>\n",
       "      <td>0.088799</td>\n",
       "      <td>0.048919</td>\n",
       "      <td>0.181162</td>\n",
       "      <td>0.062798</td>\n",
       "      <td>...</td>\n",
       "      <td>25.677223</td>\n",
       "      <td>107.261213</td>\n",
       "      <td>880.583128</td>\n",
       "      <td>0.132369</td>\n",
       "      <td>0.254265</td>\n",
       "      <td>0.272188</td>\n",
       "      <td>0.114606</td>\n",
       "      <td>0.290076</td>\n",
       "      <td>0.083946</td>\n",
       "      <td>0.627417</td>\n",
       "    </tr>\n",
       "    <tr>\n",
       "      <th>std</th>\n",
       "      <td>3.524049</td>\n",
       "      <td>4.301036</td>\n",
       "      <td>24.298981</td>\n",
       "      <td>351.914129</td>\n",
       "      <td>0.014064</td>\n",
       "      <td>0.052813</td>\n",
       "      <td>0.079720</td>\n",
       "      <td>0.038803</td>\n",
       "      <td>0.027414</td>\n",
       "      <td>0.007060</td>\n",
       "      <td>...</td>\n",
       "      <td>6.146258</td>\n",
       "      <td>33.602542</td>\n",
       "      <td>569.356993</td>\n",
       "      <td>0.022832</td>\n",
       "      <td>0.157336</td>\n",
       "      <td>0.208624</td>\n",
       "      <td>0.065732</td>\n",
       "      <td>0.061867</td>\n",
       "      <td>0.018061</td>\n",
       "      <td>0.483918</td>\n",
       "    </tr>\n",
       "    <tr>\n",
       "      <th>min</th>\n",
       "      <td>6.981000</td>\n",
       "      <td>9.710000</td>\n",
       "      <td>43.790000</td>\n",
       "      <td>143.500000</td>\n",
       "      <td>0.052630</td>\n",
       "      <td>0.019380</td>\n",
       "      <td>0.000000</td>\n",
       "      <td>0.000000</td>\n",
       "      <td>0.106000</td>\n",
       "      <td>0.049960</td>\n",
       "      <td>...</td>\n",
       "      <td>12.020000</td>\n",
       "      <td>50.410000</td>\n",
       "      <td>185.200000</td>\n",
       "      <td>0.071170</td>\n",
       "      <td>0.027290</td>\n",
       "      <td>0.000000</td>\n",
       "      <td>0.000000</td>\n",
       "      <td>0.156500</td>\n",
       "      <td>0.055040</td>\n",
       "      <td>0.000000</td>\n",
       "    </tr>\n",
       "    <tr>\n",
       "      <th>25%</th>\n",
       "      <td>11.700000</td>\n",
       "      <td>16.170000</td>\n",
       "      <td>75.170000</td>\n",
       "      <td>420.300000</td>\n",
       "      <td>0.086370</td>\n",
       "      <td>0.064920</td>\n",
       "      <td>0.029560</td>\n",
       "      <td>0.020310</td>\n",
       "      <td>0.161900</td>\n",
       "      <td>0.057700</td>\n",
       "      <td>...</td>\n",
       "      <td>21.080000</td>\n",
       "      <td>84.110000</td>\n",
       "      <td>515.300000</td>\n",
       "      <td>0.116600</td>\n",
       "      <td>0.147200</td>\n",
       "      <td>0.114500</td>\n",
       "      <td>0.064930</td>\n",
       "      <td>0.250400</td>\n",
       "      <td>0.071460</td>\n",
       "      <td>0.000000</td>\n",
       "    </tr>\n",
       "    <tr>\n",
       "      <th>50%</th>\n",
       "      <td>13.370000</td>\n",
       "      <td>18.840000</td>\n",
       "      <td>86.240000</td>\n",
       "      <td>551.100000</td>\n",
       "      <td>0.095870</td>\n",
       "      <td>0.092630</td>\n",
       "      <td>0.061540</td>\n",
       "      <td>0.033500</td>\n",
       "      <td>0.179200</td>\n",
       "      <td>0.061540</td>\n",
       "      <td>...</td>\n",
       "      <td>25.410000</td>\n",
       "      <td>97.660000</td>\n",
       "      <td>686.500000</td>\n",
       "      <td>0.131300</td>\n",
       "      <td>0.211900</td>\n",
       "      <td>0.226700</td>\n",
       "      <td>0.099930</td>\n",
       "      <td>0.282200</td>\n",
       "      <td>0.080040</td>\n",
       "      <td>1.000000</td>\n",
       "    </tr>\n",
       "    <tr>\n",
       "      <th>75%</th>\n",
       "      <td>15.780000</td>\n",
       "      <td>21.800000</td>\n",
       "      <td>104.100000</td>\n",
       "      <td>782.700000</td>\n",
       "      <td>0.105300</td>\n",
       "      <td>0.130400</td>\n",
       "      <td>0.130700</td>\n",
       "      <td>0.074000</td>\n",
       "      <td>0.195700</td>\n",
       "      <td>0.066120</td>\n",
       "      <td>...</td>\n",
       "      <td>29.720000</td>\n",
       "      <td>125.400000</td>\n",
       "      <td>1084.000000</td>\n",
       "      <td>0.146000</td>\n",
       "      <td>0.339100</td>\n",
       "      <td>0.382900</td>\n",
       "      <td>0.161400</td>\n",
       "      <td>0.317900</td>\n",
       "      <td>0.092080</td>\n",
       "      <td>1.000000</td>\n",
       "    </tr>\n",
       "    <tr>\n",
       "      <th>max</th>\n",
       "      <td>28.110000</td>\n",
       "      <td>39.280000</td>\n",
       "      <td>188.500000</td>\n",
       "      <td>2501.000000</td>\n",
       "      <td>0.163400</td>\n",
       "      <td>0.345400</td>\n",
       "      <td>0.426800</td>\n",
       "      <td>0.201200</td>\n",
       "      <td>0.304000</td>\n",
       "      <td>0.097440</td>\n",
       "      <td>...</td>\n",
       "      <td>49.540000</td>\n",
       "      <td>251.200000</td>\n",
       "      <td>4254.000000</td>\n",
       "      <td>0.222600</td>\n",
       "      <td>1.058000</td>\n",
       "      <td>1.252000</td>\n",
       "      <td>0.291000</td>\n",
       "      <td>0.663800</td>\n",
       "      <td>0.207500</td>\n",
       "      <td>1.000000</td>\n",
       "    </tr>\n",
       "  </tbody>\n",
       "</table>\n",
       "<p>8 rows × 31 columns</p>\n",
       "</div>"
      ],
      "text/plain": [
       "       mean radius  mean texture  mean perimeter    mean area  \\\n",
       "count   569.000000    569.000000      569.000000   569.000000   \n",
       "mean     14.127292     19.289649       91.969033   654.889104   \n",
       "std       3.524049      4.301036       24.298981   351.914129   \n",
       "min       6.981000      9.710000       43.790000   143.500000   \n",
       "25%      11.700000     16.170000       75.170000   420.300000   \n",
       "50%      13.370000     18.840000       86.240000   551.100000   \n",
       "75%      15.780000     21.800000      104.100000   782.700000   \n",
       "max      28.110000     39.280000      188.500000  2501.000000   \n",
       "\n",
       "       mean smoothness  mean compactness  mean concavity  mean concave points  \\\n",
       "count       569.000000        569.000000      569.000000           569.000000   \n",
       "mean          0.096360          0.104341        0.088799             0.048919   \n",
       "std           0.014064          0.052813        0.079720             0.038803   \n",
       "min           0.052630          0.019380        0.000000             0.000000   \n",
       "25%           0.086370          0.064920        0.029560             0.020310   \n",
       "50%           0.095870          0.092630        0.061540             0.033500   \n",
       "75%           0.105300          0.130400        0.130700             0.074000   \n",
       "max           0.163400          0.345400        0.426800             0.201200   \n",
       "\n",
       "       mean symmetry  mean fractal dimension  ...  worst texture  \\\n",
       "count     569.000000              569.000000  ...     569.000000   \n",
       "mean        0.181162                0.062798  ...      25.677223   \n",
       "std         0.027414                0.007060  ...       6.146258   \n",
       "min         0.106000                0.049960  ...      12.020000   \n",
       "25%         0.161900                0.057700  ...      21.080000   \n",
       "50%         0.179200                0.061540  ...      25.410000   \n",
       "75%         0.195700                0.066120  ...      29.720000   \n",
       "max         0.304000                0.097440  ...      49.540000   \n",
       "\n",
       "       worst perimeter   worst area  worst smoothness  worst compactness  \\\n",
       "count       569.000000   569.000000        569.000000         569.000000   \n",
       "mean        107.261213   880.583128          0.132369           0.254265   \n",
       "std          33.602542   569.356993          0.022832           0.157336   \n",
       "min          50.410000   185.200000          0.071170           0.027290   \n",
       "25%          84.110000   515.300000          0.116600           0.147200   \n",
       "50%          97.660000   686.500000          0.131300           0.211900   \n",
       "75%         125.400000  1084.000000          0.146000           0.339100   \n",
       "max         251.200000  4254.000000          0.222600           1.058000   \n",
       "\n",
       "       worst concavity  worst concave points  worst symmetry  \\\n",
       "count       569.000000            569.000000      569.000000   \n",
       "mean          0.272188              0.114606        0.290076   \n",
       "std           0.208624              0.065732        0.061867   \n",
       "min           0.000000              0.000000        0.156500   \n",
       "25%           0.114500              0.064930        0.250400   \n",
       "50%           0.226700              0.099930        0.282200   \n",
       "75%           0.382900              0.161400        0.317900   \n",
       "max           1.252000              0.291000        0.663800   \n",
       "\n",
       "       worst fractal dimension  benign_0__mal_1  \n",
       "count               569.000000       569.000000  \n",
       "mean                  0.083946         0.627417  \n",
       "std                   0.018061         0.483918  \n",
       "min                   0.055040         0.000000  \n",
       "25%                   0.071460         0.000000  \n",
       "50%                   0.080040         1.000000  \n",
       "75%                   0.092080         1.000000  \n",
       "max                   0.207500         1.000000  \n",
       "\n",
       "[8 rows x 31 columns]"
      ]
     },
     "execution_count": 7,
     "metadata": {},
     "output_type": "execute_result"
    }
   ],
   "source": [
    "d.describe()"
   ]
  },
  {
   "cell_type": "code",
   "execution_count": 37,
   "id": "499495a9",
   "metadata": {},
   "outputs": [],
   "source": [
    "#Checking inconsistency of Data"
   ]
  },
  {
   "cell_type": "code",
   "execution_count": 8,
   "id": "3ee341dc",
   "metadata": {},
   "outputs": [
    {
     "data": {
      "text/plain": [
       "<AxesSubplot:>"
      ]
     },
     "execution_count": 8,
     "metadata": {},
     "output_type": "execute_result"
    },
    {
     "data": {
      "image/png": "[encoded data removed]",
      "text/plain": [
       "<Figure size 432x288 with 1 Axes>"
      ]
     },
     "metadata": {
      "needs_background": "light"
     },
     "output_type": "display_data"
    }
   ],
   "source": [
    "sns.heatmap(d.isnull(),yticklabels=False,cbar=False,cmap='viridis')"
   ]
  },
  {
   "cell_type": "code",
   "execution_count": null,
   "id": "35a97fee",
   "metadata": {},
   "outputs": [],
   "source": [
    "#Choosing features and classification label"
   ]
  },
  {
   "cell_type": "code",
   "execution_count": 9,
   "id": "13a870d4",
   "metadata": {},
   "outputs": [],
   "source": [
    "x = d.drop('benign_0__mal_1',axis=1).values\n",
    "y = d['benign_0__mal_1'].values"
   ]
  },
  {
   "cell_type": "code",
   "execution_count": null,
   "id": "aba366ed",
   "metadata": {},
   "outputs": [],
   "source": [
    "#Splitting Dataset into training and testing sets"
   ]
  },
  {
   "cell_type": "code",
   "execution_count": 10,
   "id": "858d13da",
   "metadata": {},
   "outputs": [],
   "source": [
    "xtrain,xtest,ytrain,ytest = train_test_split(x,y,test_size=0.3,random_state=101)"
   ]
  },
  {
   "cell_type": "code",
   "execution_count": 42,
   "id": "8229933d",
   "metadata": {},
   "outputs": [],
   "source": [
    "#Scaling the Data"
   ]
  },
  {
   "cell_type": "code",
   "execution_count": 11,
   "id": "404dc680",
   "metadata": {},
   "outputs": [],
   "source": [
    "scaler = MinMaxScaler()"
   ]
  },
  {
   "cell_type": "code",
   "execution_count": 12,
   "id": "7918fe55",
   "metadata": {},
   "outputs": [
    {
     "data": {
      "text/plain": [
       "MinMaxScaler()"
      ]
     },
     "execution_count": 12,
     "metadata": {},
     "output_type": "execute_result"
    }
   ],
   "source": [
    "scaler.fit(xtrain)"
   ]
  },
  {
   "cell_type": "code",
   "execution_count": 13,
   "id": "805c42f2",
   "metadata": {},
   "outputs": [],
   "source": [
    "xtrain = scaler.transform(xtrain)\n",
    "xtest = scaler.transform(xtest)"
   ]
  },
  {
   "cell_type": "code",
   "execution_count": 41,
   "id": "6f96b604",
   "metadata": {},
   "outputs": [],
   "source": [
    "#Building the model"
   ]
  },
  {
   "cell_type": "code",
   "execution_count": 14,
   "id": "3e2b953f",
   "metadata": {},
   "outputs": [],
   "source": [
    "model = Sequential()"
   ]
  },
  {
   "cell_type": "code",
   "execution_count": 15,
   "id": "2a4b49be",
   "metadata": {},
   "outputs": [],
   "source": [
    "model.add(Dense(30,activation='relu'))\n",
    "model.add(Dropout(0.5))\n",
    "model.add(Dense(15,activation='relu'))\n",
    "model.add(Dropout(0.5))\n",
    "model.add(Dense(1,activation='sigmoid'))"
   ]
  },
  {
   "cell_type": "code",
   "execution_count": 16,
   "id": "8d6d1ac4",
   "metadata": {},
   "outputs": [],
   "source": [
    "model.compile(optimizer='adam',loss='binary_crossentropy')"
   ]
  },
  {
   "cell_type": "code",
   "execution_count": 17,
   "id": "41b5dce9",
   "metadata": {},
   "outputs": [],
   "source": [
    "early_stop = EarlyStopping(monitor='val_loss',verbose=1,patience=25,mode='min')"
   ]
  },
  {
   "cell_type": "code",
   "execution_count": 43,
   "id": "691c4a0a",
   "metadata": {},
   "outputs": [],
   "source": [
    "#Training the Model"
   ]
  },
  {
   "cell_type": "code",
   "execution_count": 18,
   "id": "15e67537",
   "metadata": {},
   "outputs": [
    {
     "name": "stdout",
     "output_type": "stream",
     "text": [
      "Epoch 1/600\n",
      "13/13 [==============================] - 4s 47ms/step - loss: 0.6915 - val_loss: 0.6735\n",
      "Epoch 2/600\n",
      "13/13 [==============================] - 0s 11ms/step - loss: 0.6695 - val_loss: 0.6537\n",
      "Epoch 3/600\n",
      "13/13 [==============================] - 0s 10ms/step - loss: 0.6483 - val_loss: 0.6326\n",
      "Epoch 4/600\n",
      "13/13 [==============================] - 0s 8ms/step - loss: 0.6309 - val_loss: 0.6132\n",
      "Epoch 5/600\n",
      "13/13 [==============================] - 0s 7ms/step - loss: 0.6115 - val_loss: 0.5926\n",
      "Epoch 6/600\n",
      "13/13 [==============================] - 0s 7ms/step - loss: 0.5906 - val_loss: 0.5720\n",
      "Epoch 7/600\n",
      "13/13 [==============================] - 0s 7ms/step - loss: 0.5827 - val_loss: 0.5557\n",
      "Epoch 8/600\n",
      "13/13 [==============================] - 0s 7ms/step - loss: 0.5557 - val_loss: 0.5291\n",
      "Epoch 9/600\n",
      "13/13 [==============================] - 0s 7ms/step - loss: 0.5415 - val_loss: 0.5043\n",
      "Epoch 10/600\n",
      "13/13 [==============================] - 0s 8ms/step - loss: 0.5132 - val_loss: 0.4775\n",
      "Epoch 11/600\n",
      "13/13 [==============================] - 0s 8ms/step - loss: 0.4913 - val_loss: 0.4483\n",
      "Epoch 12/600\n",
      "13/13 [==============================] - 0s 10ms/step - loss: 0.4635 - val_loss: 0.4248\n",
      "Epoch 13/600\n",
      "13/13 [==============================] - 0s 9ms/step - loss: 0.4538 - val_loss: 0.3979\n",
      "Epoch 14/600\n",
      "13/13 [==============================] - 0s 9ms/step - loss: 0.4239 - val_loss: 0.3724\n",
      "Epoch 15/600\n",
      "13/13 [==============================] - 0s 6ms/step - loss: 0.4095 - val_loss: 0.3528\n",
      "Epoch 16/600\n",
      "13/13 [==============================] - 0s 7ms/step - loss: 0.4198 - val_loss: 0.3408\n",
      "Epoch 17/600\n",
      "13/13 [==============================] - 0s 7ms/step - loss: 0.3902 - val_loss: 0.3200\n",
      "Epoch 18/600\n",
      "13/13 [==============================] - 0s 7ms/step - loss: 0.3714 - val_loss: 0.3044\n",
      "Epoch 19/600\n",
      "13/13 [==============================] - 0s 7ms/step - loss: 0.3530 - val_loss: 0.2888\n",
      "Epoch 20/600\n",
      "13/13 [==============================] - 0s 7ms/step - loss: 0.3540 - val_loss: 0.2826\n",
      "Epoch 21/600\n",
      "13/13 [==============================] - 0s 7ms/step - loss: 0.3362 - val_loss: 0.2750\n",
      "Epoch 22/600\n",
      "13/13 [==============================] - 0s 8ms/step - loss: 0.3196 - val_loss: 0.2547\n",
      "Epoch 23/600\n",
      "13/13 [==============================] - 0s 7ms/step - loss: 0.2947 - val_loss: 0.2430\n",
      "Epoch 24/600\n",
      "13/13 [==============================] - 0s 7ms/step - loss: 0.2907 - val_loss: 0.2329\n",
      "Epoch 25/600\n",
      "13/13 [==============================] - 0s 7ms/step - loss: 0.2915 - val_loss: 0.2310\n",
      "Epoch 26/600\n",
      "13/13 [==============================] - 0s 7ms/step - loss: 0.2506 - val_loss: 0.2122\n",
      "Epoch 27/600\n",
      "13/13 [==============================] - 0s 7ms/step - loss: 0.2794 - val_loss: 0.2036\n",
      "Epoch 28/600\n",
      "13/13 [==============================] - 0s 6ms/step - loss: 0.2411 - val_loss: 0.1973\n",
      "Epoch 29/600\n",
      "13/13 [==============================] - 0s 7ms/step - loss: 0.2460 - val_loss: 0.1907\n",
      "Epoch 30/600\n",
      "13/13 [==============================] - 0s 7ms/step - loss: 0.2273 - val_loss: 0.1812\n",
      "Epoch 31/600\n",
      "13/13 [==============================] - 0s 7ms/step - loss: 0.2130 - val_loss: 0.1894\n",
      "Epoch 32/600\n",
      "13/13 [==============================] - 0s 7ms/step - loss: 0.2312 - val_loss: 0.1764\n",
      "Epoch 33/600\n",
      "13/13 [==============================] - 0s 6ms/step - loss: 0.2374 - val_loss: 0.1738\n",
      "Epoch 34/600\n",
      "13/13 [==============================] - 0s 6ms/step - loss: 0.2406 - val_loss: 0.1762\n",
      "Epoch 35/600\n",
      "13/13 [==============================] - 0s 6ms/step - loss: 0.2120 - val_loss: 0.1781\n",
      "Epoch 36/600\n",
      "13/13 [==============================] - 0s 6ms/step - loss: 0.2280 - val_loss: 0.1662\n",
      "Epoch 37/600\n",
      "13/13 [==============================] - 0s 7ms/step - loss: 0.1755 - val_loss: 0.1688\n",
      "Epoch 38/600\n",
      "13/13 [==============================] - 0s 7ms/step - loss: 0.2183 - val_loss: 0.1607\n",
      "Epoch 39/600\n",
      "13/13 [==============================] - 0s 7ms/step - loss: 0.1983 - val_loss: 0.1612\n",
      "Epoch 40/600\n",
      "13/13 [==============================] - 0s 7ms/step - loss: 0.2003 - val_loss: 0.1595\n",
      "Epoch 41/600\n",
      "13/13 [==============================] - 0s 7ms/step - loss: 0.1774 - val_loss: 0.1611\n",
      "Epoch 42/600\n",
      "13/13 [==============================] - 0s 6ms/step - loss: 0.2199 - val_loss: 0.1621\n",
      "Epoch 43/600\n",
      "13/13 [==============================] - 0s 6ms/step - loss: 0.1812 - val_loss: 0.1538\n",
      "Epoch 44/600\n",
      "13/13 [==============================] - 0s 6ms/step - loss: 0.2133 - val_loss: 0.1535\n",
      "Epoch 45/600\n",
      "13/13 [==============================] - 0s 6ms/step - loss: 0.1768 - val_loss: 0.1561\n",
      "Epoch 46/600\n",
      "13/13 [==============================] - 0s 6ms/step - loss: 0.1692 - val_loss: 0.1533\n",
      "Epoch 47/600\n",
      "13/13 [==============================] - 0s 6ms/step - loss: 0.1966 - val_loss: 0.1487\n",
      "Epoch 48/600\n",
      "13/13 [==============================] - 0s 6ms/step - loss: 0.1662 - val_loss: 0.1431\n",
      "Epoch 49/600\n",
      "13/13 [==============================] - 0s 7ms/step - loss: 0.1681 - val_loss: 0.1438\n",
      "Epoch 50/600\n",
      "13/13 [==============================] - 0s 6ms/step - loss: 0.1578 - val_loss: 0.1421\n",
      "Epoch 51/600\n",
      "13/13 [==============================] - 0s 6ms/step - loss: 0.2084 - val_loss: 0.1426\n",
      "Epoch 52/600\n",
      "13/13 [==============================] - 0s 6ms/step - loss: 0.1616 - val_loss: 0.1432\n",
      "Epoch 53/600\n",
      "13/13 [==============================] - 0s 6ms/step - loss: 0.1539 - val_loss: 0.1439\n",
      "Epoch 54/600\n",
      "13/13 [==============================] - 0s 6ms/step - loss: 0.1704 - val_loss: 0.1411\n",
      "Epoch 55/600\n",
      "13/13 [==============================] - 0s 6ms/step - loss: 0.1478 - val_loss: 0.1483\n",
      "Epoch 56/600\n",
      "13/13 [==============================] - 0s 6ms/step - loss: 0.1645 - val_loss: 0.1379\n",
      "Epoch 57/600\n",
      "13/13 [==============================] - 0s 6ms/step - loss: 0.1498 - val_loss: 0.1393\n",
      "Epoch 58/600\n",
      "13/13 [==============================] - 0s 6ms/step - loss: 0.1379 - val_loss: 0.1373\n",
      "Epoch 59/600\n",
      "13/13 [==============================] - 0s 9ms/step - loss: 0.1563 - val_loss: 0.1355\n",
      "Epoch 60/600\n",
      "13/13 [==============================] - 0s 7ms/step - loss: 0.1372 - val_loss: 0.1357\n",
      "Epoch 61/600\n",
      "13/13 [==============================] - 0s 8ms/step - loss: 0.1364 - val_loss: 0.1336\n",
      "Epoch 62/600\n",
      "13/13 [==============================] - 0s 9ms/step - loss: 0.1459 - val_loss: 0.1395\n",
      "Epoch 63/600\n",
      "13/13 [==============================] - 0s 10ms/step - loss: 0.1401 - val_loss: 0.1353\n",
      "Epoch 64/600\n",
      "13/13 [==============================] - 0s 6ms/step - loss: 0.1623 - val_loss: 0.1334\n",
      "Epoch 65/600\n",
      "13/13 [==============================] - 0s 7ms/step - loss: 0.1271 - val_loss: 0.1370\n",
      "Epoch 66/600\n",
      "13/13 [==============================] - 0s 6ms/step - loss: 0.1291 - val_loss: 0.1333\n",
      "Epoch 67/600\n",
      "13/13 [==============================] - 0s 6ms/step - loss: 0.1239 - val_loss: 0.1332\n",
      "Epoch 68/600\n",
      "13/13 [==============================] - 0s 6ms/step - loss: 0.1226 - val_loss: 0.1334\n",
      "Epoch 69/600\n",
      "13/13 [==============================] - 0s 6ms/step - loss: 0.1185 - val_loss: 0.1334\n",
      "Epoch 70/600\n",
      "13/13 [==============================] - 0s 6ms/step - loss: 0.1140 - val_loss: 0.1329\n",
      "Epoch 71/600\n",
      "13/13 [==============================] - 0s 6ms/step - loss: 0.1265 - val_loss: 0.1345\n",
      "Epoch 72/600\n",
      "13/13 [==============================] - 0s 6ms/step - loss: 0.1240 - val_loss: 0.1311\n",
      "Epoch 73/600\n",
      "13/13 [==============================] - 0s 7ms/step - loss: 0.1289 - val_loss: 0.1290\n",
      "Epoch 74/600\n",
      "13/13 [==============================] - 0s 6ms/step - loss: 0.1043 - val_loss: 0.1403\n",
      "Epoch 75/600\n",
      "13/13 [==============================] - 0s 6ms/step - loss: 0.1481 - val_loss: 0.1304\n",
      "Epoch 76/600\n",
      "13/13 [==============================] - 0s 5ms/step - loss: 0.1197 - val_loss: 0.1315\n",
      "Epoch 77/600\n",
      "13/13 [==============================] - 0s 6ms/step - loss: 0.1219 - val_loss: 0.1329\n",
      "Epoch 78/600\n",
      "13/13 [==============================] - 0s 6ms/step - loss: 0.1199 - val_loss: 0.1342\n",
      "Epoch 79/600\n",
      "13/13 [==============================] - 0s 6ms/step - loss: 0.1080 - val_loss: 0.1296\n",
      "Epoch 80/600\n",
      "13/13 [==============================] - 0s 6ms/step - loss: 0.1029 - val_loss: 0.1290\n",
      "Epoch 81/600\n",
      "13/13 [==============================] - 0s 6ms/step - loss: 0.1004 - val_loss: 0.1310\n",
      "Epoch 82/600\n",
      "13/13 [==============================] - 0s 6ms/step - loss: 0.1005 - val_loss: 0.1355\n"
     ]
    },
    {
     "name": "stdout",
     "output_type": "stream",
     "text": [
      "Epoch 83/600\n",
      "13/13 [==============================] - 0s 6ms/step - loss: 0.0861 - val_loss: 0.1325\n",
      "Epoch 84/600\n",
      "13/13 [==============================] - 0s 6ms/step - loss: 0.0893 - val_loss: 0.1326\n",
      "Epoch 85/600\n",
      "13/13 [==============================] - 0s 6ms/step - loss: 0.1108 - val_loss: 0.1421\n",
      "Epoch 86/600\n",
      "13/13 [==============================] - 0s 6ms/step - loss: 0.1013 - val_loss: 0.1353\n",
      "Epoch 87/600\n",
      "13/13 [==============================] - 0s 6ms/step - loss: 0.1064 - val_loss: 0.1315\n",
      "Epoch 88/600\n",
      "13/13 [==============================] - 0s 6ms/step - loss: 0.0819 - val_loss: 0.1478\n",
      "Epoch 89/600\n",
      "13/13 [==============================] - 0s 6ms/step - loss: 0.0814 - val_loss: 0.1308\n",
      "Epoch 90/600\n",
      "13/13 [==============================] - 0s 7ms/step - loss: 0.0954 - val_loss: 0.1296\n",
      "Epoch 91/600\n",
      "13/13 [==============================] - 0s 9ms/step - loss: 0.0977 - val_loss: 0.1315\n",
      "Epoch 92/600\n",
      "13/13 [==============================] - 0s 10ms/step - loss: 0.0878 - val_loss: 0.1346\n",
      "Epoch 93/600\n",
      "13/13 [==============================] - 0s 7ms/step - loss: 0.0750 - val_loss: 0.1355\n",
      "Epoch 94/600\n",
      "13/13 [==============================] - 0s 8ms/step - loss: 0.1001 - val_loss: 0.1323\n",
      "Epoch 95/600\n",
      "13/13 [==============================] - 0s 8ms/step - loss: 0.0865 - val_loss: 0.1331\n",
      "Epoch 96/600\n",
      "13/13 [==============================] - 0s 6ms/step - loss: 0.0938 - val_loss: 0.1318\n",
      "Epoch 97/600\n",
      "13/13 [==============================] - 0s 6ms/step - loss: 0.0716 - val_loss: 0.1341\n",
      "Epoch 98/600\n",
      "13/13 [==============================] - 0s 6ms/step - loss: 0.0985 - val_loss: 0.1389\n",
      "Epoch 98: early stopping\n"
     ]
    },
    {
     "data": {
      "text/plain": [
       "<keras.callbacks.History at 0x2540ab32dc0>"
      ]
     },
     "execution_count": 18,
     "metadata": {},
     "output_type": "execute_result"
    }
   ],
   "source": [
    "model.fit(x=xtrain,y=ytrain,epochs=600,verbose=1,callbacks=[early_stop],validation_data=(xtest,ytest))"
   ]
  },
  {
   "cell_type": "code",
   "execution_count": 19,
   "id": "ad8d82fd",
   "metadata": {},
   "outputs": [],
   "source": [
    "model_loss = pd.DataFrame(model.history.history)"
   ]
  },
  {
   "cell_type": "code",
   "execution_count": 20,
   "id": "0bc8d8df",
   "metadata": {},
   "outputs": [
    {
     "data": {
      "text/plain": [
       "<AxesSubplot:>"
      ]
     },
     "execution_count": 20,
     "metadata": {},
     "output_type": "execute_result"
    },
    {
     "data": {
      "image/png": "[encoded data removed]",
      "text/plain": [
       "<Figure size 432x288 with 1 Axes>"
      ]
     },
     "metadata": {
      "needs_background": "light"
     },
     "output_type": "display_data"
    }
   ],
   "source": [
    "model_loss.plot()"
   ]
  },
  {
   "cell_type": "code",
   "execution_count": 44,
   "id": "fc0b1719",
   "metadata": {},
   "outputs": [],
   "source": [
    "#Evaluating the performance of the model"
   ]
  },
  {
   "cell_type": "code",
   "execution_count": 21,
   "id": "7f28448e",
   "metadata": {},
   "outputs": [
    {
     "name": "stdout",
     "output_type": "stream",
     "text": [
      "6/6 [==============================] - 0s 4ms/step\n"
     ]
    }
   ],
   "source": [
    "predictions = model.predict(xtest)"
   ]
  },
  {
   "cell_type": "code",
   "execution_count": 31,
   "id": "b4dc5705",
   "metadata": {},
   "outputs": [
    {
     "data": {
      "text/plain": [
       "3.1711445436935612"
      ]
     },
     "execution_count": 31,
     "metadata": {},
     "output_type": "execute_result"
    }
   ],
   "source": [
    "metrics.mean_squared_error(ytest,predictions)*100"
   ]
  },
  {
   "cell_type": "code",
   "execution_count": 32,
   "id": "2f9b8a5c",
   "metadata": {},
   "outputs": [
    {
     "data": {
      "text/plain": [
       "6.054449039312098"
      ]
     },
     "execution_count": 32,
     "metadata": {},
     "output_type": "execute_result"
    }
   ],
   "source": [
    "metrics.mean_absolute_error(ytest,predictions)*100"
   ]
  },
  {
   "cell_type": "code",
   "execution_count": 33,
   "id": "f720fe66",
   "metadata": {},
   "outputs": [
    {
     "data": {
      "text/plain": [
       "17.80770772360542"
      ]
     },
     "execution_count": 33,
     "metadata": {},
     "output_type": "execute_result"
    }
   ],
   "source": [
    "np.sqrt(metrics.mean_squared_error(ytest,predictions))*100"
   ]
  },
  {
   "cell_type": "code",
   "execution_count": 35,
   "id": "cf8fdab8",
   "metadata": {},
   "outputs": [
    {
     "data": {
      "text/plain": [
       "98.5360585197044"
      ]
     },
     "execution_count": 35,
     "metadata": {},
     "output_type": "execute_result"
    }
   ],
   "source": [
    "metrics.average_precision_score(ytest,predictions)*100"
   ]
  }
 ],
 "metadata": {
  "kernelspec": {
   "display_name": "Python 3 (ipykernel)",
   "language": "python",
   "name": "python3"
  },
  "language_info": {
   "codemirror_mode": {
    "name": "ipython",
    "version": 3
   },
   "file_extension": ".py",
   "mimetype": "text/x-python",
   "name": "python",
   "nbconvert_exporter": "python",
   "pygments_lexer": "ipython3",
   "version": "3.9.12"
  }
 },
 "nbformat": 4,
 "nbformat_minor": 5
}
